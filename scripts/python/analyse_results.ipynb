{
 "cells": [
  {
   "cell_type": "code",
   "execution_count": null,
   "id": "aa74e3e2",
   "metadata": {},
   "outputs": [],
   "source": [
    "import numpy as np\n",
    "import glob\n",
    "import os\n",
    "import matplotlib.pyplot as plt"
   ]
  },
  {
   "cell_type": "code",
   "execution_count": null,
   "id": "5166342b",
   "metadata": {},
   "outputs": [],
   "source": [
    "from read_write_model import read_images_binary"
   ]
  },
  {
   "cell_type": "code",
   "execution_count": null,
   "id": "3e7d0143",
   "metadata": {},
   "outputs": [],
   "source": [
    "global_path = \"/home/riuclement/Documents/colmap_exp/sub80_4/\"\n",
    "output_gen_path = global_path + \"OUT_{}_{}/\"\n",
    "path_out = global_path + \"{}.npy\""
   ]
  },
  {
   "cell_type": "code",
   "execution_count": null,
   "id": "f350e310",
   "metadata": {},
   "outputs": [],
   "source": [
    "def get_folder_info(folder_path):\n",
    "    infos = folder_path.split(\"OUT\")[-1].split(\"_\")\n",
    "    noise_value = infos[1]\n",
    "    outlier_value = infos[2].strip(\"/\")\n",
    "    return np.float64(noise_value), np.float64(outlier_value)"
   ]
  },
  {
   "cell_type": "code",
   "execution_count": null,
   "id": "6a133531",
   "metadata": {},
   "outputs": [],
   "source": [
    "def format_value_for_filename(numerical_value_):\n",
    "    if numerical_value_ == 0:\n",
    "        return \"0.0\"\n",
    "    else:\n",
    "        formated_value = \"%.1f\" % numerical_value_\n",
    "        if formated_value.startswith(\"0.\"):\n",
    "            return formated_value[1:]\n",
    "        return formated_value"
   ]
  },
  {
   "cell_type": "code",
   "execution_count": null,
   "id": "9a453477",
   "metadata": {},
   "outputs": [],
   "source": [
    "def read_time_values(time_path):\n",
    "    time = np.zeros(2)\n",
    "    if os.path.exists(time_path):\n",
    "        val = np.loadtxt(time_path)\n",
    "        if val.shape[0] == 2:\n",
    "            time = val\n",
    "    return time"
   ]
  },
  {
   "cell_type": "code",
   "execution_count": null,
   "id": "140cea8f",
   "metadata": {},
   "outputs": [],
   "source": [
    "std_values = [float(i/2) for i in range(13)]\n",
    "outlier_values = [float(i/10) for i in range(10)]\n",
    "num_images = 50\n",
    "image_nums = [1 + i for i in range(num_images)]\n",
    "num_trial = 10\n",
    "algorithms = [\"ransac\", \"acransac\", \"fastac\", \"lrt\"]"
   ]
  },
  {
   "cell_type": "code",
   "execution_count": null,
   "id": "2c9196b7",
   "metadata": {},
   "outputs": [],
   "source": [
    "time_values = np.zeros((2, num_trial, len(algorithms), len(std_values), len(outlier_values)))\n",
    "precision_values = np.zeros((num_trial, len(algorithms), len(std_values), len(outlier_values)))\n",
    "recall_values = np.zeros((num_trial, len(algorithms),  len(std_values), len(outlier_values)))\n",
    "images_seen_values = np.zeros((num_trial, len(algorithms), len(std_values), len(outlier_values)))"
   ]
  },
  {
   "cell_type": "code",
   "execution_count": null,
   "id": "b9ef4410",
   "metadata": {},
   "outputs": [],
   "source": [
    "for i_std, std_val in enumerate(std_values):\n",
    "    std_val_filename = format_value_for_filename(std_val)\n",
    "    for i_outlier, outlier_val in enumerate(outlier_values):\n",
    "        outlier_val_filename = format_value_for_filename(outlier_val)\n",
    "        folder_path = output_gen_path.format(std_val_filename, outlier_val_filename)\n",
    "        for i_trial in range(num_trial):\n",
    "            inlier_outlier_path = folder_path + \"inlier_outlier_{}.txt\".format(i_trial)\n",
    "            if os.path.exists(inlier_outlier_path):\n",
    "                inlier_outlier_data = np.loadtxt(inlier_outlier_path)\n",
    "                for i_algo, algo_name in enumerate(algorithms):\n",
    "                        time_path = folder_path + algo_name + \"_{}\".format(i_trial) + \"_time.txt\"\n",
    "                        time = read_time_values(time_path)\n",
    "                        time_values[:, i_trial, i_algo, i_std, i_outlier] = time\n",
    "                        image_path = folder_path + algo_name + \"_{}\".format(i_trial) + \"_images.bin\"\n",
    "                        if os.path.exists(image_path):\n",
    "                            images_result = read_images_binary(image_path)\n",
    "                            num_true_positive = 0\n",
    "                            num_estimated_positive = 0\n",
    "                            num_GT_inliers = 0\n",
    "                            num_images_seen = 0\n",
    "                            for i_image, image_val in enumerate(image_nums):\n",
    "                                if (image_val in images_result.keys()):\n",
    "                                    num_images_seen += 1\n",
    "                                    num_true_positive += np.sum(inlier_outlier_data[np.where(inlier_outlier_data[:, 0] == image_val)][images_result[image_val].point3D_ids > 0, 2])\n",
    "                                    num_estimated_positive += np.sum(images_result[image_val].point3D_ids > 0)\n",
    "                                num_GT_inliers += np.sum(inlier_outlier_data[np.where(inlier_outlier_data[:, 0] == image_val)][:, 2])\n",
    "                            if num_estimated_positive > 0:\n",
    "                                precision = num_true_positive / num_estimated_positive\n",
    "                            if num_GT_inliers > 0:\n",
    "                                recall = num_true_positive / num_GT_inliers\n",
    "\n",
    "                            precision_values[i_trial, i_algo, i_std, i_outlier] = precision\n",
    "                            recall_values[i_trial, i_algo, i_std, i_outlier] = recall\n",
    "                            images_seen_values[i_trial, i_algo, i_std, i_outlier] = num_images_seen"
   ]
  },
  {
   "cell_type": "code",
   "execution_count": null,
   "id": "3fb81ca6",
   "metadata": {},
   "outputs": [],
   "source": [
    "image_path"
   ]
  },
  {
   "cell_type": "code",
   "execution_count": null,
   "id": "4f405f6b",
   "metadata": {},
   "outputs": [],
   "source": [
    "precision_mean = precision_values.mean(axis=0)\n",
    "recall_mean = recall_values.mean(axis=0)\n",
    "time_mean = time_values.mean(axis=1)\n",
    "images_seen_mean = images_seen_values.mean(axis=0)"
   ]
  },
  {
   "cell_type": "code",
   "execution_count": null,
   "id": "43c40d6a",
   "metadata": {},
   "outputs": [],
   "source": [
    "display_style = {\n",
    "    \"alpha\" : 1.0,\n",
    "    \"colors\" : {\n",
    "        \"ransac\" : 'b',\n",
    "        \"acransac\" : 'r',\n",
    "        \"fastac\" : 'y',\n",
    "        \"lrt\" : 'g',\n",
    "    },\n",
    "    \"linestyles\" : {\n",
    "        \"ransac\" : '-',\n",
    "        \"acransac\" : '-',\n",
    "        \"fastac\" : '-',\n",
    "        \"lrt\" : '-',\n",
    "    },\n",
    "}"
   ]
  },
  {
   "cell_type": "code",
   "execution_count": null,
   "id": "2c1ce785",
   "metadata": {},
   "outputs": [],
   "source": [
    "def print_image(algorithms_, outlier_values_, std_values_,\n",
    "                display_style_,\n",
    "                values_to_print_, name_value_print_,\n",
    "                save_=False):\n",
    "    legend = \"{}.\"\n",
    "    xlabel_n = \"Noise std value (in pixel)\"\n",
    "    xlabel_o = \"Outlier ratio value\"\n",
    "    generic_title = \"{} for outlier ratio of {}.\"\n",
    "    generic_suptitle = \"{} for algorithms {}.\".format(\"{}\", \" \".join(algorithms_))\n",
    "\n",
    "\n",
    "    fig, axs = plt.subplots(1, len(outlier_values_), figsize=(10 * len(outlier_values_), 10), sharey=True)\n",
    "    fig.suptitle(generic_suptitle.format(name_value_print_))\n",
    "    lines = []\n",
    "    legends = []\n",
    "\n",
    "    for i_outlier, outlier_val in enumerate(outlier_values_):\n",
    "        for i_algo, algo_name in enumerate(algorithms_):\n",
    "            line = axs[i_outlier].plot(std_values_, values_to_print_[i_algo, :, i_outlier],\n",
    "                                       color=display_style_[\"colors\"][algo_name],\n",
    "                                       linestyle=display_style_[\"linestyles\"][algo_name],\n",
    "                                       alpha=display_style_[\"alpha\"])\n",
    "            lines.append(line)\n",
    "            legends.append(legend.format(algo_name))\n",
    "\n",
    "    axs[i_outlier].legend(lines, legends)\n",
    "    if save_:\n",
    "        plt.savefig(save_, bbox_inches='tight')\n",
    "    else:\n",
    "        plt.show()"
   ]
  },
  {
   "cell_type": "code",
   "execution_count": null,
   "id": "fa9a3d75",
   "metadata": {},
   "outputs": [],
   "source": [
    "print_image(algorithms, outlier_values, std_values, display_style, precision_mean, \"Precision\")\n",
    "print_image(algorithms, outlier_values, std_values, display_style, recall_mean, \"Recall\")\n",
    "print_image(algorithms, outlier_values, std_values, display_style, images_seen_mean, \"Number of images seen\")"
   ]
  },
  {
   "cell_type": "code",
   "execution_count": null,
   "id": "396d98e8",
   "metadata": {},
   "outputs": [],
   "source": [
    "def print_time_image(algorithms_, outlier_values_, std_values_,\n",
    "                display_style_,\n",
    "                values_to_print_, name_value_print_,\n",
    "                save_=False):\n",
    "    legend = \"{}.\"\n",
    "    xlabel_n = \"Noise std value (in pixel)\"\n",
    "    xlabel_o = \"Outlier ratio value\"\n",
    "    generic_title = \"{} for outlier ratio of {}.\"\n",
    "    generic_suptitle = \"{} for algorithms {}.\".format(\"{}\", \" \".join(algorithms_))\n",
    "\n",
    "\n",
    "    fig, axs = plt.subplots(1, len(outlier_values_), figsize=(10 * len(outlier_values_), 10), sharey=True)\n",
    "    fig.suptitle(generic_suptitle.format(name_value_print_))\n",
    "    lines = []\n",
    "    legends = []\n",
    "\n",
    "    for i_outlier, outlier_val in enumerate(outlier_values_):\n",
    "        for i_algo, algo_name in enumerate(algorithms_):\n",
    "            line = axs[i_outlier].plot(std_values_, values_to_print_[0, i_algo, :, i_outlier],\n",
    "                                       color=display_style_[\"colors\"][algo_name],\n",
    "                                       linestyle=\"-\",\n",
    "                                       alpha=display_style_[\"alpha\"])\n",
    "            lines.append(line)\n",
    "            legends.append(\"Global time for \" + legend.format(algo_name))\n",
    "            line = axs[i_outlier].plot(std_values_, values_to_print_[1, i_algo, :, i_outlier],\n",
    "                                       color=display_style_[\"colors\"][algo_name],\n",
    "                                       linestyle=\"--\",\n",
    "                                       alpha=display_style_[\"alpha\"])\n",
    "            lines.append(line)\n",
    "            legends.append(\"Ransac time for \" + legend.format(algo_name))\n",
    "\n",
    "    axs[i_outlier].legend(lines, legends)\n",
    "    if save_:\n",
    "        plt.savefig(save_, bbox_inches='tight')\n",
    "    else:\n",
    "        plt.show()"
   ]
  },
  {
   "cell_type": "code",
   "execution_count": null,
   "id": "7574f7c9",
   "metadata": {
    "scrolled": false
   },
   "outputs": [],
   "source": [
    "print_time_image(algorithms, outlier_values, std_values, display_style, time_mean, \"Time\")"
   ]
  },
  {
   "cell_type": "code",
   "execution_count": null,
   "id": "06c7ea8c",
   "metadata": {},
   "outputs": [],
   "source": [
    "np.save(path_out.format(\"precision_array\"), precision_values)\n",
    "np.save(path_out.format(\"recall_array\"), recall_values)\n",
    "np.save(path_out.format(\"image_seen_array\"), images_seen_values)\n",
    "np.save(path_out.format(\"time_array\"), time_values)"
   ]
  },
  {
   "cell_type": "code",
   "execution_count": null,
   "id": "dcca5ead",
   "metadata": {},
   "outputs": [],
   "source": []
  }
 ],
 "metadata": {
  "kernelspec": {
   "display_name": "Python 3 (ipykernel)",
   "language": "python",
   "name": "python3"
  },
  "language_info": {
   "codemirror_mode": {
    "name": "ipython",
    "version": 3
   },
   "file_extension": ".py",
   "mimetype": "text/x-python",
   "name": "python",
   "nbconvert_exporter": "python",
   "pygments_lexer": "ipython3",
   "version": "3.8.10"
  }
 },
 "nbformat": 4,
 "nbformat_minor": 5
}
