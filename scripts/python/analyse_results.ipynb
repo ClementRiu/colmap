{
 "cells": [
  {
   "cell_type": "code",
   "execution_count": 1,
   "id": "aa74e3e2",
   "metadata": {},
   "outputs": [],
   "source": [
    "import numpy as np\n",
    "import glob\n",
    "import os\n",
    "import matplotlib.pyplot as plt"
   ]
  },
  {
   "cell_type": "code",
   "execution_count": 2,
   "id": "5166342b",
   "metadata": {},
   "outputs": [],
   "source": [
    "from read_write_model import read_images_binary"
   ]
  },
  {
   "cell_type": "code",
   "execution_count": 3,
   "id": "3e7d0143",
   "metadata": {},
   "outputs": [],
   "source": [
    "output_gen_path = \"/home/clementriu/Documents/these/colmap_exp/test11/OUT_{}_{}/\""
   ]
  },
  {
   "cell_type": "code",
   "execution_count": 4,
   "id": "f350e310",
   "metadata": {},
   "outputs": [],
   "source": [
    "def get_folder_info(folder_path):\n",
    "    infos = folder_path.split(\"OUT\")[-1].split(\"_\")\n",
    "    noise_value = infos[1]\n",
    "    outlier_value = infos[2].strip(\"/\")\n",
    "    return np.float64(noise_value), np.float64(outlier_value)"
   ]
  },
  {
   "cell_type": "code",
   "execution_count": 5,
   "id": "6a133531",
   "metadata": {},
   "outputs": [],
   "source": [
    "def format_value_for_filename(numerical_value_):\n",
    "    if numerical_value_ == 0:\n",
    "        return \"0.0\"\n",
    "    else:\n",
    "        formated_value = \"%.1f\" % numerical_value_\n",
    "        if formated_value.startswith(\"0.\"):\n",
    "            return formated_value[1:]\n",
    "        return formated_value"
   ]
  },
  {
   "cell_type": "code",
   "execution_count": 6,
   "id": "9a453477",
   "metadata": {},
   "outputs": [],
   "source": [
    "def read_time_values(time_path):\n",
    "    if os.path.exists(time_path):\n",
    "        time = np.loadtxt(time_path)\n",
    "    return time"
   ]
  },
  {
   "cell_type": "code",
   "execution_count": 7,
   "id": "140cea8f",
   "metadata": {},
   "outputs": [],
   "source": [
    "std_values = [float(i/2) for i in range(13)]\n",
    "outlier_values = [float(i/10) for i in range(10)]\n",
    "image_nums = [1 + i for i in range(9)]\n",
    "num_trial = 1\n",
    "algorithms = [\"ransac\", \"acransac\", \"fastac\", \"lrt\"]"
   ]
  },
  {
   "cell_type": "code",
   "execution_count": 8,
   "id": "2c9196b7",
   "metadata": {},
   "outputs": [],
   "source": [
    "time_values = np.zeros((2, num_trial, len(algorithms), len(std_values), len(outlier_values)))\n",
    "precision_values = np.zeros((num_trial, len(algorithms), len(std_values), len(outlier_values)))\n",
    "recall_values = np.zeros((num_trial, len(algorithms),  len(std_values), len(outlier_values)))"
   ]
  },
  {
   "cell_type": "code",
   "execution_count": 9,
   "id": "b9ef4410",
   "metadata": {},
   "outputs": [
    {
     "ename": "UnboundLocalError",
     "evalue": "local variable 'time' referenced before assignment",
     "output_type": "error",
     "traceback": [
      "\u001b[0;31m---------------------------------------------------------------------------\u001b[0m",
      "\u001b[0;31mUnboundLocalError\u001b[0m                         Traceback (most recent call last)",
      "Cell \u001b[0;32mIn [9], line 12\u001b[0m\n\u001b[1;32m     10\u001b[0m \u001b[38;5;28;01mfor\u001b[39;00m i_trial \u001b[38;5;129;01min\u001b[39;00m \u001b[38;5;28mrange\u001b[39m(num_trial):\n\u001b[1;32m     11\u001b[0m     time_path \u001b[38;5;241m=\u001b[39m folder_path \u001b[38;5;241m+\u001b[39m algo_name \u001b[38;5;241m+\u001b[39m \u001b[38;5;124m\"\u001b[39m\u001b[38;5;124m_\u001b[39m\u001b[38;5;124m\"\u001b[39m\u001b[38;5;241m.\u001b[39mformat(i_trial) \u001b[38;5;241m+\u001b[39m \u001b[38;5;124m\"\u001b[39m\u001b[38;5;124m_time.txt\u001b[39m\u001b[38;5;124m\"\u001b[39m\n\u001b[0;32m---> 12\u001b[0m     time \u001b[38;5;241m=\u001b[39m \u001b[43mread_time_values\u001b[49m\u001b[43m(\u001b[49m\u001b[43mtime_path\u001b[49m\u001b[43m)\u001b[49m\n\u001b[1;32m     13\u001b[0m     time_values[:, i_trial, i_algo, i_std, i_outlier] \u001b[38;5;241m=\u001b[39m time\n\u001b[1;32m     14\u001b[0m     image_path \u001b[38;5;241m=\u001b[39m folder_path \u001b[38;5;241m+\u001b[39m algo_name \u001b[38;5;241m+\u001b[39m \u001b[38;5;124m\"\u001b[39m\u001b[38;5;124m_\u001b[39m\u001b[38;5;124m\"\u001b[39m\u001b[38;5;241m.\u001b[39mformat(i_trial) \u001b[38;5;241m+\u001b[39m \u001b[38;5;124m\"\u001b[39m\u001b[38;5;124m_images.bin\u001b[39m\u001b[38;5;124m\"\u001b[39m\n",
      "Cell \u001b[0;32mIn [6], line 4\u001b[0m, in \u001b[0;36mread_time_values\u001b[0;34m(time_path)\u001b[0m\n\u001b[1;32m      2\u001b[0m \u001b[38;5;28;01mif\u001b[39;00m os\u001b[38;5;241m.\u001b[39mpath\u001b[38;5;241m.\u001b[39mexists(time_path):\n\u001b[1;32m      3\u001b[0m     time \u001b[38;5;241m=\u001b[39m np\u001b[38;5;241m.\u001b[39mloadtxt(time_path)\n\u001b[0;32m----> 4\u001b[0m \u001b[38;5;28;01mreturn\u001b[39;00m \u001b[43mtime\u001b[49m\n",
      "\u001b[0;31mUnboundLocalError\u001b[0m: local variable 'time' referenced before assignment"
     ]
    }
   ],
   "source": [
    "for i_std, std_val in enumerate(std_values):\n",
    "    std_val_filename = format_value_for_filename(std_val)\n",
    "    for i_outlier, outlier_val in enumerate(outlier_values):\n",
    "        outlier_val_filename = format_value_for_filename(outlier_val)\n",
    "        folder_path = output_gen_path.format(std_val_filename, outlier_val_filename)\n",
    "        inlier_outlier_path = folder_path + \"inlier_outlier.txt\"\n",
    "        if os.path.exists(inlier_outlier_path):\n",
    "            inlier_outlier_data = np.loadtxt(inlier_outlier_path)\n",
    "        for i_algo, algo_name in enumerate(algorithms):\n",
    "            for i_trial in range(num_trial):\n",
    "                time_path = folder_path + algo_name + \"_\".format(i_trial) + \"_time.txt\"\n",
    "                time = read_time_values(time_path)\n",
    "                time_values[:, i_trial, i_algo, i_std, i_outlier] = time\n",
    "                image_path = folder_path + algo_name + \"_\".format(i_trial) + \"_images.bin\"\n",
    "                if os.path.exists(image_path):\n",
    "                    images_result = read_images_binary(image_path)\n",
    "                    num_true_positive = 0\n",
    "                    num_estimated_positive = 0\n",
    "                    num_GT_inliers = 0\n",
    "                    for i_image, image_val in enumerate(image_nums):\n",
    "                        num_true_positive += np.sum(inlier_outlier_data[np.where(inlier_outlier_data[:, 0] == image_val)][images_result[image_val].point3D_ids > 0, 2])\n",
    "                        num_estimated_positive += np.sum(images_result[image_val].point3D_ids > 0)\n",
    "                        num_GT_inliers += np.sum(inlier_outlier_data[np.where(inlier_outlier_data[:, 0] == image_val)][:, 2])\n",
    "                    precision = num_true_positive / num_estimated_positive\n",
    "                    recall = num_true_positive / num_GT_inliers\n",
    "                    precision_values[i_trial, i_algo, i_std, i_outlier] = precision\n",
    "                    recall_values[i_trial, i_algo, i_std, i_outlier] = recall"
   ]
  },
  {
   "cell_type": "code",
   "execution_count": null,
   "id": "4f405f6b",
   "metadata": {},
   "outputs": [],
   "source": [
    "precision_mean = precision_values.mean(axis=0)\n",
    "recall_mean = recall_values.mean(axis=0)\n",
    "time_mean = time_values.mean(axis=1)"
   ]
  },
  {
   "cell_type": "code",
   "execution_count": null,
   "id": "43c40d6a",
   "metadata": {},
   "outputs": [],
   "source": [
    "display_style = {\n",
    "    \"alpha\" : 1.0,\n",
    "    \"colors\" : {\n",
    "        \"ransac\" : 'b',\n",
    "        \"acransac\" : 'r',\n",
    "        \"fastac\" : 'y',\n",
    "        \"lrt\" : 'g',\n",
    "    },\n",
    "    \"linestyles\" : {\n",
    "        \"ransac\" : '-',\n",
    "        \"acransac\" : '-',\n",
    "        \"fastac\" : '-',\n",
    "        \"lrt\" : '-',\n",
    "    },\n",
    "}"
   ]
  },
  {
   "cell_type": "code",
   "execution_count": null,
   "id": "2c1ce785",
   "metadata": {},
   "outputs": [],
   "source": [
    "def print_image(algorithms_, outlier_values_, std_values_,\n",
    "                display_style_,\n",
    "                values_to_print_, name_value_print_,\n",
    "                save_=False):\n",
    "    legend = \"{}.\"\n",
    "    xlabel_n = \"Noise std value (in pixel)\"\n",
    "    xlabel_o = \"Outlier ratio value\"\n",
    "    generic_title = \"{} for outlier ratio of {}.\"\n",
    "    generic_suptitle = \"{} for algorithms {}.\".format(\"{}\", \" \".join(algorithms_))\n",
    "\n",
    "\n",
    "    fig, axs = plt.subplots(1, len(outlier_values_), figsize=(10 * len(outlier_values_), 10), sharey=True)\n",
    "    fig.suptitle(generic_suptitle.format(name_value_print_))\n",
    "    lines = []\n",
    "    legends = []\n",
    "\n",
    "    for i_outlier, outlier_val in enumerate(outlier_values_):\n",
    "        for i_algo, algo_name in enumerate(algorithms_):\n",
    "            line = axs[i_outlier].plot(std_values_, values_to_print_[i_algo, :, i_outlier],\n",
    "                                       color=display_style_[\"colors\"][algo_name],\n",
    "                                       linestyle=display_style_[\"linestyles\"][algo_name],\n",
    "                                       alpha=display_style_[\"alpha\"])\n",
    "            lines.append(line)\n",
    "            legends.append(legend.format(algo_name))\n",
    "\n",
    "    axs[i_outlier].legend(lines, legends)\n",
    "    if save_:\n",
    "        plt.savefig(save_, bbox_inches='tight')\n",
    "    else:\n",
    "        plt.show()"
   ]
  },
  {
   "cell_type": "code",
   "execution_count": null,
   "id": "fa9a3d75",
   "metadata": {},
   "outputs": [],
   "source": [
    "print_image(algorithms, outlier_values, std_values, display_style, precision_mean, \"Precision\")\n",
    "print_image(algorithms, outlier_values, std_values, display_style, recall_mean, \"Recall\")"
   ]
  },
  {
   "cell_type": "code",
   "execution_count": null,
   "id": "396d98e8",
   "metadata": {},
   "outputs": [],
   "source": [
    "def print_time_image(algorithms_, outlier_values_, std_values_,\n",
    "                display_style_,\n",
    "                values_to_print_, name_value_print_,\n",
    "                save_=False):\n",
    "    legend = \"{}.\"\n",
    "    xlabel_n = \"Noise std value (in pixel)\"\n",
    "    xlabel_o = \"Outlier ratio value\"\n",
    "    generic_title = \"{} for outlier ratio of {}.\"\n",
    "    generic_suptitle = \"{} for algorithms {}.\".format(\"{}\", \" \".join(algorithms_))\n",
    "\n",
    "\n",
    "    fig, axs = plt.subplots(1, len(outlier_values_), figsize=(10 * len(outlier_values_), 10), sharey=True)\n",
    "    fig.suptitle(generic_suptitle.format(name_value_print_))\n",
    "    lines = []\n",
    "    legends = []\n",
    "\n",
    "    for i_outlier, outlier_val in enumerate(outlier_values_):\n",
    "        for i_algo, algo_name in enumerate(algorithms_):\n",
    "            line = axs[i_outlier].plot(std_values_, values_to_print_[0, i_algo, :, i_outlier],\n",
    "                                       color=display_style_[\"colors\"][algo_name],\n",
    "                                       linestyle=\"-\",\n",
    "                                       alpha=display_style_[\"alpha\"])\n",
    "            lines.append(line)\n",
    "            legends.append(\"Global time for \" + legend.format(algo_name))\n",
    "            line = axs[i_outlier].plot(std_values_, values_to_print_[1, i_algo, :, i_outlier],\n",
    "                                       color=display_style_[\"colors\"][algo_name],\n",
    "                                       linestyle=\"--\",\n",
    "                                       alpha=display_style_[\"alpha\"])\n",
    "            lines.append(line)\n",
    "            legends.append(\"Ransac time for \" + legend.format(algo_name))\n",
    "\n",
    "    axs[i_outlier].legend(lines, legends)\n",
    "    if save_:\n",
    "        plt.savefig(save_, bbox_inches='tight')\n",
    "    else:\n",
    "        plt.show()"
   ]
  },
  {
   "cell_type": "code",
   "execution_count": null,
   "id": "7574f7c9",
   "metadata": {
    "scrolled": false
   },
   "outputs": [],
   "source": [
    "print_time_image(algorithms, outlier_values, std_values, display_style, time_mean, \"Time\")"
   ]
  },
  {
   "cell_type": "code",
   "execution_count": null,
   "id": "06c7ea8c",
   "metadata": {},
   "outputs": [],
   "source": []
  }
 ],
 "metadata": {
  "kernelspec": {
   "display_name": "Python 3 (ipykernel)",
   "language": "python",
   "name": "python3"
  },
  "language_info": {
   "codemirror_mode": {
    "name": "ipython",
    "version": 3
   },
   "file_extension": ".py",
   "mimetype": "text/x-python",
   "name": "python",
   "nbconvert_exporter": "python",
   "pygments_lexer": "ipython3",
   "version": "3.8.10"
  }
 },
 "nbformat": 4,
 "nbformat_minor": 5
}
