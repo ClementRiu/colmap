{
 "cells": [
  {
   "cell_type": "code",
   "execution_count": null,
   "id": "aa74e3e2",
   "metadata": {},
   "outputs": [],
   "source": [
    "import numpy as np\n",
    "import glob\n",
    "import os\n",
    "import matplotlib.pyplot as plt"
   ]
  },
  {
   "cell_type": "code",
   "execution_count": null,
   "id": "5166342b",
   "metadata": {},
   "outputs": [],
   "source": [
    "from read_write_model import read_images_binary"
   ]
  },
  {
   "cell_type": "code",
   "execution_count": null,
   "id": "3e7d0143",
   "metadata": {},
   "outputs": [],
   "source": [
    "global_path = \"/home/clementriu/Documents/these/colmap_exp/sub20/\"\n",
    "output_gen_path = global_path + \"OUT_{}_{}/\"\n",
    "path_out = global_path + \"{}.npy\"\n",
    "path_image = global_path + \"{}.png\"\n",
    "path_in = global_path + \"{}_{}_{}.npy\""
   ]
  },
  {
   "cell_type": "code",
   "execution_count": null,
   "id": "f350e310",
   "metadata": {},
   "outputs": [],
   "source": [
    "def get_folder_info(folder_path):\n",
    "    infos = folder_path.split(\"OUT\")[-1].split(\"_\")\n",
    "    noise_value = infos[1]\n",
    "    outlier_value = infos[2].strip(\"/\")\n",
    "    return np.float64(noise_value), np.float64(outlier_value)"
   ]
  },
  {
   "cell_type": "code",
   "execution_count": null,
   "id": "6a133531",
   "metadata": {},
   "outputs": [],
   "source": [
    "def format_value_for_filename(numerical_value_):\n",
    "    if numerical_value_ == 0:\n",
    "        return \"0.0\"\n",
    "    else:\n",
    "        formated_value = \"%.1f\" % numerical_value_\n",
    "        if formated_value.startswith(\"0.\"):\n",
    "            return formated_value[1:]\n",
    "        return formated_value"
   ]
  },
  {
   "cell_type": "code",
   "execution_count": null,
   "id": "9a453477",
   "metadata": {},
   "outputs": [],
   "source": [
    "def read_time_values(time_path):\n",
    "    time = np.zeros(2)\n",
    "    if os.path.exists(time_path):\n",
    "        val = np.loadtxt(time_path)\n",
    "        if val.shape[0] == 2:\n",
    "            time = val\n",
    "    return time"
   ]
  },
  {
   "cell_type": "code",
   "execution_count": null,
   "id": "140cea8f",
   "metadata": {},
   "outputs": [],
   "source": [
    "std_values = [float(i/2) for i in range(13)]\n",
    "outlier_values = [float(i/10) for i in range(10)]\n",
    "num_images = 20\n",
    "image_nums = [1 + i for i in range(num_images)]\n",
    "num_trial = 10\n",
    "algorithms = [\"lo-ransac\", \"acransac\", \"fastac\", \"lrt\"]"
   ]
  },
  {
   "cell_type": "code",
   "execution_count": null,
   "id": "44fc25fd",
   "metadata": {},
   "outputs": [],
   "source": [
    "f1score_values = np.load(path_out.format(\"global_f1score_array\"))\n",
    "precision_values = np.load(path_out.format(\"global_precision_array\"))\n",
    "recall_values = np.load(path_out.format(\"global_recall_array\"))\n",
    "images_seen_values = np.load(path_out.format(\"global_image_seen_array\"))\n",
    "time_values = np.load(path_out.format(\"global_time_array\"))\n",
    "images_posi_values = np.load(path_out.format(\"global_image_position\"))"
   ]
  },
  {
   "cell_type": "code",
   "execution_count": null,
   "id": "dada0d91",
   "metadata": {},
   "outputs": [],
   "source": [
    "assert(False)"
   ]
  },
  {
   "cell_type": "code",
   "execution_count": null,
   "id": "2c9196b7",
   "metadata": {},
   "outputs": [],
   "source": [
    "time_values = np.zeros((2, num_trial, len(algorithms), len(std_values), len(outlier_values)))\n",
    "precision_values = np.zeros((num_trial, len(algorithms), len(std_values), len(outlier_values)))\n",
    "recall_values = np.zeros((num_trial, len(algorithms),  len(std_values), len(outlier_values)))\n",
    "images_seen_values = np.zeros((num_trial, len(algorithms), len(std_values), len(outlier_values)))\n",
    "images_posi_values = np.zeros((num_trial, len(algorithms),  len(std_values), len(outlier_values), num_images, 8))"
   ]
  },
  {
   "cell_type": "code",
   "execution_count": null,
   "id": "b9ef4410",
   "metadata": {},
   "outputs": [],
   "source": [
    "for i_std, std_val in enumerate(std_values):\n",
    "    std_val_filename = format_value_for_filename(std_val)\n",
    "    for i_outlier, outlier_val in enumerate(outlier_values):\n",
    "        outlier_val_filename = format_value_for_filename(outlier_val)\n",
    "        \n",
    "        precision_values[:, :, i_std, i_outlier] = np.load(path_in.format(\"precision_array\", std_val_filename, outlier_val_filename))\n",
    "        recall_values[:, :, i_std, i_outlier] = np.load(path_in.format(\"recall_array\", std_val_filename, outlier_val_filename))\n",
    "        images_seen_values[:, :, i_std, i_outlier] = np.load(path_in.format(\"image_seen_array\", std_val_filename, outlier_val_filename))\n",
    "        time_values[:, :, :, i_std, i_outlier] = np.load(path_in.format(\"time_array\", std_val_filename, outlier_val_filename))\n",
    "        images_posi_values[:, :, i_std, i_outlier] = np.load(path_in.format(\"image_position\", std_val_filename, outlier_val_filename))\n",
    "#         folder_path = output_gen_path.format(std_val_filename, outlier_val_filename)\n",
    "#         for i_trial in range(num_trial):\n",
    "#             inlier_outlier_path = folder_path + \"inlier_outlier_{}.txt\".format(i_trial)\n",
    "#             if os.path.exists(inlier_outlier_path):\n",
    "#                 inlier_outlier_data = np.loadtxt(inlier_outlier_path)\n",
    "#                 for i_algo, algo_name in enumerate(algorithms):\n",
    "#                         time_path = folder_path + algo_name + \"_{}\".format(i_trial) + \"_time.txt\"\n",
    "#                         time = read_time_values(time_path)\n",
    "#                         time_values[:, i_trial, i_algo, i_std, i_outlier] = time\n",
    "#                         image_path = folder_path + algo_name + \"_{}\".format(i_trial) + \"_images.bin\"\n",
    "#                         if os.path.exists(image_path):\n",
    "#                             images_result = read_images_binary(image_path)\n",
    "#                             num_true_positive = 0\n",
    "#                             num_estimated_positive = 0\n",
    "#                             num_GT_inliers = 0\n",
    "#                             num_images_seen = 0\n",
    "#                             for i_image, image_val in enumerate(image_nums):\n",
    "#                                 if (image_val in images_result.keys()):\n",
    "#                                     images_posi_values[i_trial, i_algo, i_std, i_outlier, i_image, 0] = image_val\n",
    "#                                     images_posi_values[i_trial, i_algo, i_std, i_outlier,i_image, 1:5] = images_result[image_val].qvec\n",
    "#                                     images_posi_values[i_trial, i_algo, i_std, i_outlier,i_image, 5:] = images_result[image_val].tvec\n",
    "#                                     num_images_seen += 1\n",
    "#                                     num_true_positive += np.sum(inlier_outlier_data[np.where(inlier_outlier_data[:, 0] == image_val)][images_result[image_val].point3D_ids > 0, 2])\n",
    "#                                     num_estimated_positive += np.sum(images_result[image_val].point3D_ids > 0)\n",
    "#                                 num_GT_inliers += np.sum(inlier_outlier_data[np.where(inlier_outlier_data[:, 0] == image_val)][:, 2])\n",
    "#                             if num_estimated_positive > 0:\n",
    "#                                 precision = num_true_positive / num_estimated_positive\n",
    "#                             if num_GT_inliers > 0:\n",
    "#                                 recall = num_true_positive / num_GT_inliers\n",
    "\n",
    "#                             precision_values[i_trial, i_algo, i_std, i_outlier] = precision\n",
    "#                             recall_values[i_trial, i_algo, i_std, i_outlier] = recall\n",
    "#                             images_seen_values[i_trial, i_algo, i_std, i_outlier] = num_images_seen"
   ]
  },
  {
   "cell_type": "code",
   "execution_count": null,
   "id": "71d10fdd",
   "metadata": {},
   "outputs": [],
   "source": [
    "numerator = np.multiply(precision_values, recall_values)\n",
    "denominator = precision_values + recall_values\n",
    "f1score_values = 2 * np.divide(numerator, denominator, out=np.zeros_like(numerator), where=denominator!=0)"
   ]
  },
  {
   "cell_type": "code",
   "execution_count": null,
   "id": "633f2e4b",
   "metadata": {},
   "outputs": [],
   "source": [
    "assert(False)"
   ]
  },
  {
   "cell_type": "code",
   "execution_count": null,
   "id": "4f405f6b",
   "metadata": {},
   "outputs": [],
   "source": [
    "precision_mean = precision_values.mean(axis=0)\n",
    "recall_mean = recall_values.mean(axis=0)\n",
    "f1score_mean = f1score_values.mean(axis=0)\n",
    "time_mean = time_values.mean(axis=1)\n",
    "images_seen_mean = images_seen_values.mean(axis=0)"
   ]
  },
  {
   "cell_type": "code",
   "execution_count": null,
   "id": "43c40d6a",
   "metadata": {},
   "outputs": [],
   "source": [
    "display_style = {\n",
    "    \"alpha\" : 1.0,\n",
    "    \"colors\" : {\n",
    "        \"lo-ransac\" : 'b',\n",
    "        \"acransac\" : 'r',\n",
    "        \"fastac\" : 'y',\n",
    "        \"lrt\" : 'g',\n",
    "    },\n",
    "    \"linestyles\" : {\n",
    "        \"lo-ransac\" : '-',\n",
    "        \"acransac\" : '-',\n",
    "        \"fastac\" : '-',\n",
    "        \"lrt\" : '-',\n",
    "    },\n",
    "}"
   ]
  },
  {
   "cell_type": "code",
   "execution_count": null,
   "id": "2c1ce785",
   "metadata": {},
   "outputs": [],
   "source": [
    "def print_image(algorithms_, outlier_values_, std_values_,\n",
    "                display_style_,\n",
    "                values_to_print_, name_value_print_,\n",
    "                save_=False):\n",
    "    legend = \"{}.\"\n",
    "    xlabel_n = \"Noise std value (in pixel)\"\n",
    "    xlabel_o = \"Outlier ratio value\"\n",
    "    generic_title = \"{} for outlier ratio of {}.\"\n",
    "    generic_suptitle = \"{} for algorithms {}.\".format(\"{}\", \" \".join(algorithms_))\n",
    "\n",
    "\n",
    "    fig, axs = plt.subplots(1, len(outlier_values_), figsize=(10 * len(outlier_values_), 10), sharey=True)\n",
    "    fig.suptitle(generic_suptitle.format(name_value_print_))\n",
    "    lines = []\n",
    "    legends = []\n",
    "\n",
    "    for i_outlier, outlier_val in enumerate(outlier_values_):\n",
    "        for i_algo, algo_name in enumerate(algorithms_):\n",
    "            line, = axs[i_outlier].plot(std_values_, values_to_print_[i_algo, :, i_outlier],\n",
    "                                       color=display_style_[\"colors\"][algo_name],\n",
    "                                       linestyle=display_style_[\"linestyles\"][algo_name],\n",
    "                                       alpha=display_style_[\"alpha\"])\n",
    "            lines.append(line)\n",
    "            legends.append(legend.format(algo_name))\n",
    "\n",
    "    axs[i_outlier].legend(lines, legends)\n",
    "    if save_:\n",
    "        plt.savefig(save_.format(name_value_print_), bbox_inches='tight')\n",
    "    else:\n",
    "        plt.show()"
   ]
  },
  {
   "cell_type": "code",
   "execution_count": null,
   "id": "fa9a3d75",
   "metadata": {},
   "outputs": [],
   "source": [
    "print_image(algorithms, outlier_values, std_values, display_style, f1score_mean, \"F1-Score\", path_image)\n",
    "print_image(algorithms, outlier_values, std_values, display_style, precision_mean, \"Precision\", path_image)\n",
    "print_image(algorithms, outlier_values, std_values, display_style, recall_mean, \"Recall\", path_image)\n",
    "print_image(algorithms, outlier_values, std_values, display_style, images_seen_mean, \"Number of images seen\", path_image)"
   ]
  },
  {
   "cell_type": "code",
   "execution_count": null,
   "id": "396d98e8",
   "metadata": {},
   "outputs": [],
   "source": [
    "def print_time_image(algorithms_, outlier_values_, std_values_,\n",
    "                display_style_,\n",
    "                values_to_print_, name_value_print_,\n",
    "                save_=False):\n",
    "    legend = \"{}.\"\n",
    "    xlabel_n = \"Noise std value (in pixel)\"\n",
    "    xlabel_o = \"Outlier ratio value\"\n",
    "    generic_title = \"{} for outlier ratio of {}.\"\n",
    "    generic_suptitle = \"{} for algorithms {}.\".format(\"{}\", \" \".join(algorithms_))\n",
    "\n",
    "\n",
    "    fig, axs = plt.subplots(1, len(outlier_values_), figsize=(10 * len(outlier_values_), 10), sharey=True)\n",
    "    fig.suptitle(generic_suptitle.format(name_value_print_))\n",
    "    lines = []\n",
    "    legends = []\n",
    "\n",
    "    for i_outlier, outlier_val in enumerate(outlier_values_):\n",
    "        for i_algo, algo_name in enumerate(algorithms_):\n",
    "            line, = axs[i_outlier].plot(std_values_, values_to_print_[0, i_algo, :, i_outlier],\n",
    "                                       color=display_style_[\"colors\"][algo_name],\n",
    "                                       linestyle=\"-\",\n",
    "                                       alpha=display_style_[\"alpha\"])\n",
    "            lines.append(line)\n",
    "            legends.append(\"Global time for \" + legend.format(algo_name))\n",
    "            line, = axs[i_outlier].plot(std_values_, values_to_print_[1, i_algo, :, i_outlier],\n",
    "                                       color=display_style_[\"colors\"][algo_name],\n",
    "                                       linestyle=\"--\",\n",
    "                                       alpha=display_style_[\"alpha\"])\n",
    "            lines.append(line)\n",
    "            legends.append(\"Ransac time for \" + legend.format(algo_name))\n",
    "            line, = axs[i_outlier].plot(std_values_, values_to_print_[0, i_algo, :, i_outlier] - values_to_print_[1, i_algo, :, i_outlier],\n",
    "                                       color=display_style_[\"colors\"][algo_name],\n",
    "                                       linestyle=\"-.\",\n",
    "                                       alpha=display_style_[\"alpha\"])\n",
    "            lines.append(line)\n",
    "            legends.append(\"Non Ransac time for \" + legend.format(algo_name))\n",
    "\n",
    "\n",
    "    axs[i_outlier].legend(lines, legends)\n",
    "    if save_:\n",
    "        plt.savefig(save_.format(name_value_print_), bbox_inches='tight')\n",
    "    else:\n",
    "        plt.show()"
   ]
  },
  {
   "cell_type": "code",
   "execution_count": null,
   "id": "7574f7c9",
   "metadata": {
    "scrolled": false
   },
   "outputs": [],
   "source": [
    "print_time_image(algorithms, outlier_values, std_values, display_style, time_mean, \"Time\", path_image)"
   ]
  },
  {
   "cell_type": "code",
   "execution_count": null,
   "id": "57f62acd",
   "metadata": {},
   "outputs": [],
   "source": [
    "assert(False)"
   ]
  },
  {
   "cell_type": "code",
   "execution_count": null,
   "id": "06c7ea8c",
   "metadata": {},
   "outputs": [],
   "source": [
    "np.save(path_out.format(\"global_f1score_array\"), f1score_values)\n",
    "np.save(path_out.format(\"global_precision_array\"), precision_values)\n",
    "np.save(path_out.format(\"global_recall_array\"), recall_values)\n",
    "np.save(path_out.format(\"global_image_seen_array\"), images_seen_values)\n",
    "np.save(path_out.format(\"global_time_array\"), time_values)\n",
    "np.save(path_out.format(\"global_image_position\"), images_posi_values)"
   ]
  },
  {
   "cell_type": "code",
   "execution_count": null,
   "id": "9ce4230e",
   "metadata": {},
   "outputs": [],
   "source": [
    "assert(False)"
   ]
  },
  {
   "cell_type": "code",
   "execution_count": null,
   "id": "6143c6dc",
   "metadata": {},
   "outputs": [],
   "source": [
    "precision_values = np.load(path_out.format(\"global_precision_array\"))\n",
    "recall_values = np.load(path_out.format(\"global_recall_array\"))\n",
    "images_seen_values = np.load(path_out.format(\"global_image_seen_array\"))\n",
    "time_values = np.load(path_out.format(\"global_time_array\"))\n",
    "images_posi_values = np.load(path_out.format(\"global_image_position\"))"
   ]
  },
  {
   "cell_type": "code",
   "execution_count": null,
   "id": "4b3170a9",
   "metadata": {},
   "outputs": [],
   "source": [
    "assert(False)"
   ]
  },
  {
   "cell_type": "code",
   "execution_count": null,
   "id": "dcca5ead",
   "metadata": {},
   "outputs": [],
   "source": [
    "def print_single_image(algorithms_, outlier_val, i_outlier, std_values_,\n",
    "                       display_style_,\n",
    "                       values_to_print_, name_value_print_, dataset_name_,\n",
    "                       save_=False, threshold_=None):\n",
    "    legend = \"{}.\"\n",
    "    xlabel_n = \"Noise std value (in pixel)\"\n",
    "    xlabel_o = \"Outlier ratio value\"\n",
    "    generic_title = \"{} for outlier ratio of {} on dataset {}.\"\n",
    "    generic_suptitle = \"{} for outlier ratio of {}\\nDataset {}.\".format(name_value_print_,\n",
    "                                                                        outlier_val,\n",
    "                                                                        dataset_name_)\n",
    "\n",
    "    fig, axs = plt.subplots(1, 1, figsize=(8, 8), sharey=True)\n",
    "    fig.suptitle(generic_suptitle)\n",
    "    axs.set_xlabel(xlabel_n)\n",
    "    axs.set_ylabel(name_value_print_)\n",
    "    if threshold_ and threshold_ >= 1:\n",
    "        axs.set_ylim(-0.01, threshold_)\n",
    "    if threshold_ and threshold_ < 1:\n",
    "        axs.set_ylim(threshold_, 1.05)\n",
    "    lines = []\n",
    "    legends = []\n",
    "\n",
    "    for i_algo, algo_name in enumerate(algorithms_):\n",
    "        line, = axs.plot(std_values_, values_to_print_[i_algo, :, i_outlier],\n",
    "                                   color=display_style_[\"colors\"][algo_name],\n",
    "                                   linestyle=display_style_[\"linestyles\"][algo_name],\n",
    "                                   alpha=display_style_[\"alpha\"])\n",
    "        lines.append(line)\n",
    "        legends.append(legend.format(algo_name))\n",
    "\n",
    "    axs.legend(lines, legends)\n",
    "    if save_:\n",
    "        plt.savefig(save_, bbox_inches='tight')\n",
    "    else:\n",
    "        plt.show()"
   ]
  },
  {
   "cell_type": "code",
   "execution_count": null,
   "id": "4a7aef13",
   "metadata": {},
   "outputs": [],
   "source": [
    "def print_single_time_image(algorithms_, outlier_val, i_outlier, std_values_,\n",
    "                       display_style_,\n",
    "                       values_to_print_, name_value_print_, dataset_name_,\n",
    "                       save_=False, threshold_=None):\n",
    "    legend = \"{}.\"\n",
    "    xlabel_n = \"Noise std value (in pixel)\"\n",
    "    xlabel_o = \"Outlier ratio value\"\n",
    "    generic_title = \"{} for outlier ratio of {} on dataset {}.\"\n",
    "    generic_suptitle = \"{} for outlier ratio of {}\\nDataset {}.\".format(name_value_print_,\n",
    "                                                                        outlier_val,\n",
    "                                                                        dataset_name_)\n",
    "\n",
    "    fig, axs = plt.subplots(1, 1, figsize=(8, 8), sharey=True)\n",
    "    fig.suptitle(generic_suptitle)\n",
    "    axs.set_xlabel(xlabel_n)\n",
    "    axs.set_ylabel(name_value_print_)\n",
    "    lines = []\n",
    "    legends = []\n",
    "    axs.set_yscale('log')\n",
    "    for i_algo, algo_name in enumerate(algorithms_):\n",
    "#         line, = axs[i_outlier].plot(std_values_, values_to_print_[0, i_algo, :, i_outlier],\n",
    "#                            color=display_style_[\"colors\"][algo_name],\n",
    "#                            linestyle=\"-\",\n",
    "#                            alpha=display_style_[\"alpha\"])\n",
    "#         lines.append(line)\n",
    "#         legends.append(\"Global time for \" + legend.format(algo_name))\n",
    "        line, = axs.plot(std_values_, values_to_print_[1, i_algo, :, i_outlier],\n",
    "                                   color=display_style_[\"colors\"][algo_name],\n",
    "                                   linestyle=\"--\",\n",
    "                                   alpha=display_style_[\"alpha\"])\n",
    "        lines.append(line)\n",
    "        legends.append(\"Ransac time for \" + legend.format(algo_name))\n",
    "        line, = axs.plot(std_values_, values_to_print_[0, i_algo, :, i_outlier] - values_to_print_[1, i_algo, :, i_outlier],\n",
    "                                   color=display_style_[\"colors\"][algo_name],\n",
    "                                   linestyle=\"-\",\n",
    "                                   alpha=display_style_[\"alpha\"])\n",
    "        lines.append(line)\n",
    "        legends.append(\"Non Ransac time for \" + legend.format(algo_name))\n",
    "\n",
    "    axs.legend(lines, legends)\n",
    "    if save_:\n",
    "        plt.savefig(save_, bbox_inches='tight')\n",
    "    else:\n",
    "        plt.show()"
   ]
  },
  {
   "cell_type": "code",
   "execution_count": null,
   "id": "eb7c633f",
   "metadata": {},
   "outputs": [],
   "source": [
    "outvalue_pos = {\n",
    "    0: 0.0,\n",
    "    1: 0.1,\n",
    "    2: 0.2,\n",
    "    3: 0.3,\n",
    "    4: 0.4,\n",
    "    5: 0.5,\n",
    "    6: 0.6,\n",
    "    7: 0.7,\n",
    "    8: 0.8,\n",
    "    9: 0.9,\n",
    "}\n",
    "\n",
    "metricval_pos = {\n",
    "    \"F1-Score\": f1score_mean,\n",
    "    \"Precision\": precision_mean,\n",
    "    \"Recall\": recall_mean,\n",
    "    \"Number of images seen\": images_seen_mean,\n",
    "}"
   ]
  },
  {
   "cell_type": "code",
   "execution_count": null,
   "id": "561e44a6",
   "metadata": {},
   "outputs": [],
   "source": [
    "dataset_name = global_path.split('/')[-2]\n",
    "outval_used = 0\n",
    "output_path = \"/home/clementriu/Documents/these/colmap_exp/im_{}_{}_{}.png\"\n",
    "\n",
    "print_single_image(algorithms,\n",
    "                   outvalue_pos[outval_used],\n",
    "                   outval_used,\n",
    "                   std_values,\n",
    "                   display_style,\n",
    "                   metricval_pos[\"F1-Score\"],\n",
    "                   \"F1-Score\",\n",
    "                   dataset_name,\n",
    "                   output_path.format(dataset_name, \"F1-Score\", outval_used),\n",
    "                   1.01)\n",
    "\n",
    "print_single_image(algorithms,\n",
    "                   outvalue_pos[outval_used],\n",
    "                   outval_used,\n",
    "                   std_values,\n",
    "                   display_style,\n",
    "                   metricval_pos[\"Precision\"],\n",
    "                   \"Precision\",\n",
    "                   dataset_name,\n",
    "                   output_path.format(dataset_name, \"Precision\", outval_used),\n",
    "                   1.01)\n",
    "\n",
    "print_single_image(algorithms,\n",
    "                   outvalue_pos[outval_used],\n",
    "                   outval_used,\n",
    "                   std_values,\n",
    "                   display_style,\n",
    "                   metricval_pos[\"Recall\"],\n",
    "                   \"Recall\",\n",
    "                   dataset_name,\n",
    "                   output_path.format(dataset_name, \"Recall\", outval_used),\n",
    "                   1.01)\n",
    "\n",
    "print_single_image(algorithms,\n",
    "                   outvalue_pos[outval_used],\n",
    "                   outval_used,\n",
    "                   std_values,\n",
    "                   display_style,\n",
    "                   metricval_pos[\"Number of images seen\"],\n",
    "                   \"Number of images seen\",\n",
    "                   dataset_name,\n",
    "                   output_path.format(dataset_name, \"Number of images seen\", outval_used))\n",
    "\n",
    "print_single_time_image(algorithms,\n",
    "                   outvalue_pos[outval_used],\n",
    "                   outval_used,\n",
    "                   std_values,\n",
    "                   display_style,\n",
    "                   time_mean,\n",
    "                   \"Time (s - log scale)\",\n",
    "                   dataset_name,\n",
    "                   output_path.format(dataset_name, \"Time\", outval_used))"
   ]
  },
  {
   "cell_type": "code",
   "execution_count": null,
   "id": "e6c44445",
   "metadata": {},
   "outputs": [],
   "source": []
  },
  {
   "cell_type": "code",
   "execution_count": null,
   "id": "34035a08",
   "metadata": {},
   "outputs": [],
   "source": []
  }
 ],
 "metadata": {
  "kernelspec": {
   "display_name": "Python 3 (ipykernel)",
   "language": "python",
   "name": "python3"
  },
  "language_info": {
   "codemirror_mode": {
    "name": "ipython",
    "version": 3
   },
   "file_extension": ".py",
   "mimetype": "text/x-python",
   "name": "python",
   "nbconvert_exporter": "python",
   "pygments_lexer": "ipython3",
   "version": "3.8.10"
  }
 },
 "nbformat": 4,
 "nbformat_minor": 5
}
