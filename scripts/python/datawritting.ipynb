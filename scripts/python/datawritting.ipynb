{
 "cells": [
  {
   "cell_type": "code",
   "execution_count": 1,
   "id": "f95c62ff",
   "metadata": {},
   "outputs": [],
   "source": [
    "import sys\n",
    "import sqlite3\n",
    "import numpy as np\n",
    "import os\n",
    "import argparse\n",
    "import itertools\n",
    "import collections\n",
    "\n",
    "IS_PYTHON3 = sys.version_info[0] >= 3\n",
    "\n",
    "MAX_IMAGE_ID = 2**31 - 1\n",
    "\n",
    "CREATE_CAMERAS_TABLE = \"\"\"CREATE TABLE IF NOT EXISTS cameras (\n",
    "    camera_id INTEGER PRIMARY KEY AUTOINCREMENT NOT NULL,\n",
    "    model INTEGER NOT NULL,\n",
    "    width INTEGER NOT NULL,\n",
    "    height INTEGER NOT NULL,\n",
    "    params BLOB,\n",
    "    prior_focal_length INTEGER NOT NULL)\"\"\"\n",
    "\n",
    "CREATE_DESCRIPTORS_TABLE = \"\"\"CREATE TABLE IF NOT EXISTS descriptors (\n",
    "    image_id INTEGER PRIMARY KEY NOT NULL,\n",
    "    rows INTEGER NOT NULL,\n",
    "    cols INTEGER NOT NULL,\n",
    "    data BLOB,\n",
    "    FOREIGN KEY(image_id) REFERENCES images(image_id) ON DELETE CASCADE)\"\"\"\n",
    "\n",
    "CREATE_IMAGES_TABLE = \"\"\"CREATE TABLE IF NOT EXISTS images (\n",
    "    image_id INTEGER PRIMARY KEY AUTOINCREMENT NOT NULL,\n",
    "    name TEXT NOT NULL UNIQUE,\n",
    "    camera_id INTEGER NOT NULL,\n",
    "    prior_qw REAL,\n",
    "    prior_qx REAL,\n",
    "    prior_qy REAL,\n",
    "    prior_qz REAL,\n",
    "    prior_tx REAL,\n",
    "    prior_ty REAL,\n",
    "    prior_tz REAL,\n",
    "    CONSTRAINT image_id_check CHECK(image_id >= 0 and image_id < {}),\n",
    "    FOREIGN KEY(camera_id) REFERENCES cameras(camera_id))\n",
    "\"\"\".format(MAX_IMAGE_ID)\n",
    "\n",
    "CREATE_TWO_VIEW_GEOMETRIES_TABLE = \"\"\"\n",
    "CREATE TABLE IF NOT EXISTS two_view_geometries (\n",
    "    pair_id INTEGER PRIMARY KEY NOT NULL,\n",
    "    rows INTEGER NOT NULL,\n",
    "    cols INTEGER NOT NULL,\n",
    "    data BLOB,\n",
    "    config INTEGER NOT NULL,\n",
    "    F BLOB,\n",
    "    E BLOB,\n",
    "    H BLOB,\n",
    "    qvec BLOB,\n",
    "    tvec BLOB)\n",
    "\"\"\"\n",
    "\n",
    "CREATE_KEYPOINTS_TABLE = \"\"\"CREATE TABLE IF NOT EXISTS keypoints (\n",
    "    image_id INTEGER PRIMARY KEY NOT NULL,\n",
    "    rows INTEGER NOT NULL,\n",
    "    cols INTEGER NOT NULL,\n",
    "    data BLOB,\n",
    "    FOREIGN KEY(image_id) REFERENCES images(image_id) ON DELETE CASCADE)\n",
    "\"\"\"\n",
    "\n",
    "CREATE_MATCHES_TABLE = \"\"\"CREATE TABLE IF NOT EXISTS matches (\n",
    "    pair_id INTEGER PRIMARY KEY NOT NULL,\n",
    "    rows INTEGER NOT NULL,\n",
    "    cols INTEGER NOT NULL,\n",
    "    data BLOB)\"\"\"\n",
    "\n",
    "CREATE_NAME_INDEX = \\\n",
    "    \"CREATE UNIQUE INDEX IF NOT EXISTS index_name ON images(name)\"\n",
    "\n",
    "CREATE_ALL = \"; \".join([\n",
    "    CREATE_CAMERAS_TABLE,\n",
    "    CREATE_IMAGES_TABLE,\n",
    "    CREATE_KEYPOINTS_TABLE,\n",
    "    CREATE_DESCRIPTORS_TABLE,\n",
    "    CREATE_MATCHES_TABLE,\n",
    "    CREATE_TWO_VIEW_GEOMETRIES_TABLE,\n",
    "    CREATE_NAME_INDEX\n",
    "])\n",
    "\n",
    "from database import image_ids_to_pair_id, pair_id_to_image_ids, array_to_blob, blob_to_array, COLMAPDatabase\n",
    "\n",
    "from read_write_model import read_model, CAMERA_MODEL_NAMES"
   ]
  },
  {
   "cell_type": "code",
   "execution_count": 2,
   "id": "6114057b",
   "metadata": {},
   "outputs": [],
   "source": [
    "input_model = \"../../../colmap_dataset/gerrard-hall-small-backup/sparse/\"\n",
    "input_format = \".txt\" \n",
    "read_database = \"../../../colmap_dataset/gerrard-hall-small-backup/database.db\"\n",
    "database_path = \"../../../colmap_dataset/gerrard-hall-small/database.db\"\n",
    "delete = True"
   ]
  },
  {
   "cell_type": "code",
   "execution_count": 3,
   "id": "274e3ee7",
   "metadata": {},
   "outputs": [
    {
     "name": "stdout",
     "output_type": "stream",
     "text": [
      "Deleting\n"
     ]
    }
   ],
   "source": [
    "if delete:\n",
    "    if os.path.exists(database_path):\n",
    "        print(\"Deleting\")\n",
    "        os.remove(database_path)"
   ]
  },
  {
   "cell_type": "code",
   "execution_count": 4,
   "id": "4f296c21",
   "metadata": {},
   "outputs": [
    {
     "data": {
      "text/plain": [
       "<sqlite3.Cursor at 0x7f889000e030>"
      ]
     },
     "execution_count": 4,
     "metadata": {},
     "output_type": "execute_result"
    }
   ],
   "source": [
    "cameras_out, images_out, points3D_out = read_model(path=input_model, ext=input_format)\n",
    "\n",
    "if os.path.exists(database_path):\n",
    "    print(\"ERROR: database path already exists -- will not modify it.\")\n",
    "    assert(False)\n",
    "\n",
    "# Open the database.\n",
    "\n",
    "db_to_read = COLMAPDatabase.connect(read_database, read_only=True)\n",
    "db = COLMAPDatabase.connect(database_path)\n",
    "\n",
    "# For convenience, try creating all the tables upfront.\n",
    "db.create_tables()"
   ]
  },
  {
   "cell_type": "code",
   "execution_count": 5,
   "id": "6790458d",
   "metadata": {},
   "outputs": [],
   "source": [
    "import new_generate as ng"
   ]
  },
  {
   "cell_type": "code",
   "execution_count": 6,
   "id": "ed0a75c5",
   "metadata": {},
   "outputs": [],
   "source": [
    "# Cameras = ng.CAMERAS(db_to_read, cameras_out)\n",
    "# Descriptors = ng.DESCRIPTORS(db_to_read)\n",
    "# Images = ng.IMAGES(db_to_read, images_out)\n",
    "# Two_view_geometrys = ng.TWO_VIEW_GEOMETRYS(db_to_read, images_out, True)\n",
    "# Keypoints = ng.KEYPOINTS(db_to_read)\n",
    "# Matches = ng.MATCHES(db_to_read)"
   ]
  },
  {
   "cell_type": "code",
   "execution_count": 7,
   "id": "35d9c4c2",
   "metadata": {},
   "outputs": [],
   "source": [
    "# Keypoints.generate_GT_inliers(Two_view_geometrys, Images, Cameras, points3D_out, 1)"
   ]
  },
  {
   "cell_type": "code",
   "execution_count": 8,
   "id": "46a341ff",
   "metadata": {},
   "outputs": [],
   "source": [
    "# increase_ratio = 1.1\n",
    "# outlier_ratio = 0.5\n",
    "# max_iter_outlier = 100\n",
    "# max_inlier_error = 2"
   ]
  },
  {
   "cell_type": "code",
   "execution_count": 9,
   "id": "3b0f30f3",
   "metadata": {},
   "outputs": [],
   "source": [
    "# all_points3D = np.zeros((len(points3D_out), 3))\n",
    "# for num_point3D, point3D in enumerate(points3D_out.values()):\n",
    "#     all_points3D[num_point3D, :] = point3D.xyz\n",
    "# mini3D = np.min(all_points3D, axis=0) * increase_ratio\n",
    "# maxi3D = np.max(all_points3D, axis=0) * increase_ratio\n",
    "\n",
    "# GT_outliers = []\n",
    "# pt3D_outliers = []\n",
    "\n",
    "# for image_id, keypoint in Keypoints._keypoints.items():\n",
    "#     image = Images._images[image_id]\n",
    "#     camera = Cameras._cameras[image._camera_id]\n",
    "#     width = camera._width\n",
    "#     height = camera._height\n",
    "#     num_inlier = len(keypoint._corrected)\n",
    "#     if outlier_ratio < 1:\n",
    "#         num_outlier_req = np.floor(outlier_ratio * num_inlier / (1 - outlier_ratio))\n",
    "#     else:\n",
    "#         num_outlier_req = np.floor(outlier_ratio)\n",
    "    \n",
    "#     num_outlier_created = 0\n",
    "#     iteration = 0\n",
    "#     while num_outlier_created < num_outlier_req and iteration < num_outlier_req + max_iter_outlier:\n",
    "#         xyz_val = np.random.uniform(mini3D, maxi3D)\n",
    "#         uv_val = Keypoints._align(xyz_val, camera, image, False)\n",
    "#         u, v = uv_val\n",
    "#         if u > 0 and v > 0 and u < width and v < height:\n",
    "#             min_offset = np.sqrt(max_inlier_error)\n",
    "            \n",
    "#             theta1 = np.arctan((height - v) / (width - u))\n",
    "#             theta2 = np.arctan(u / (height - v)) + np.pi / 2\n",
    "#             theta3 = np.arctan(v / u) + np.pi\n",
    "#             theta4 = np.arctan((width - u) / v) + np.pi * 3 / 2\n",
    "            \n",
    "#             assert(theta1 > 0 and theta1 < np.pi / 2)\n",
    "#             assert(theta2 > np.pi / 2 and theta2 < np.pi)\n",
    "#             assert(theta3 > np.pi and theta3 < np.pi * 3 / 2)\n",
    "#             assert(theta4 > np.pi * 3 / 2 and theta4 < 2 * np.pi)\n",
    "            \n",
    "#             theta = np.random.uniform(0, 2 * np.pi)\n",
    "            \n",
    "#             if theta >= theta4 or theta < theta1:\n",
    "#                 max_offset = (width - u) / np.cos(theta)\n",
    "#             elif theta >= theta1 and theta < theta2:\n",
    "#                 max_offset = (height - v) / np.cos(theta - np.pi / 2)\n",
    "#             elif theta >= theta2 and theta < theta3:\n",
    "#                 max_offset = u / np.cos(theta - np.pi)\n",
    "#             elif theta >= theta3 and theta < theta4:\n",
    "#                 max_offset = v / np.cos(theta - np.pi * 3 / 2)\n",
    "                \n",
    "#             if max_offset >= min_offset:\n",
    "#                 offset = np.random.uniform(min_offset, max_offset)\n",
    "                \n",
    "#                 u += np.cos(theta) * offset\n",
    "#                 v += np.sin(theta) * offset\n",
    "                \n",
    "#                 assert(u >= 0 and u <= width)\n",
    "#                 assert(v >= 0 and v <= height)\n",
    "                \n",
    "#                 GT_outliers.append(np.array([u, v]))\n",
    "#                 pt3D_outliers.append(xyz_val)\n",
    "                \n",
    "#                 num_outlier_created += 1\n",
    "#         iteration += 1"
   ]
  },
  {
   "cell_type": "markdown",
   "id": "4f089fe5",
   "metadata": {},
   "source": [
    "## Load data"
   ]
  },
  {
   "cell_type": "code",
   "execution_count": 10,
   "id": "18b9330a",
   "metadata": {},
   "outputs": [],
   "source": [
    "Cameras = ng.CAMERAS(db_to_read, cameras_out)\n",
    "Images = ng.IMAGES(db_to_read, images_out)"
   ]
  },
  {
   "cell_type": "code",
   "execution_count": 11,
   "id": "a0295a58",
   "metadata": {},
   "outputs": [],
   "source": [
    "Two_view_geometrys = ng.TWO_VIEW_GEOMETRYS(db_to_read, images_out, True)"
   ]
  },
  {
   "cell_type": "code",
   "execution_count": 12,
   "id": "5fc8a12a",
   "metadata": {},
   "outputs": [],
   "source": [
    "Matches = ng.MATCHES(db_to_read)"
   ]
  },
  {
   "cell_type": "code",
   "execution_count": 13,
   "id": "86e23d37",
   "metadata": {},
   "outputs": [],
   "source": [
    "from collections import defaultdict"
   ]
  },
  {
   "cell_type": "code",
   "execution_count": 14,
   "id": "d25f19c5",
   "metadata": {},
   "outputs": [],
   "source": [
    "image_right = defaultdict(lambda: defaultdict(list))\n",
    "image_left = defaultdict(lambda: defaultdict(list))\n",
    "for id_pair, two_view in Two_view_geometrys._two_view_geometries.items():\n",
    "    image_id1, image_id2 = two_view._id_pair\n",
    "    for id_feature1, id_feature2 in two_view._data:\n",
    "        image_right[image_id1][id_feature1].append([image_id2, id_feature2])\n",
    "        image_left[image_id2][id_feature2].append([image_id1, id_feature1])"
   ]
  },
  {
   "cell_type": "code",
   "execution_count": 15,
   "id": "0df9813d",
   "metadata": {},
   "outputs": [],
   "source": [
    "Keypoints = ng.KEYPOINTS(db_to_read)"
   ]
  },
  {
   "cell_type": "code",
   "execution_count": 16,
   "id": "792fcbc8",
   "metadata": {},
   "outputs": [],
   "source": [
    "Descriptors = ng.DESCRIPTORS(db_to_read)"
   ]
  },
  {
   "cell_type": "code",
   "execution_count": 17,
   "id": "ceea2f94",
   "metadata": {},
   "outputs": [],
   "source": [
    "class FEATURE:\n",
    "    def __init__(self,\n",
    "                 feature_id_, image_id_, point3D_id_, index_,\n",
    "                 position_, descriptor_,\n",
    "                 match_right_, match_left_,\n",
    "                 ncols_keypoints_, ncols_descriptors_):\n",
    "        self._feature_id = feature_id_\n",
    "        self._image_id = image_id_\n",
    "        self._point3D_id = point3D_id_\n",
    "        self._index = index_\n",
    "        \n",
    "        self._position = position_\n",
    "        self._descriptor = descriptor_\n",
    "        self._match_right = match_right_\n",
    "        self._match_left = match_left_\n",
    "        \n",
    "        self._ncols_keypoints = ncols_keypoints_\n",
    "        self._ncols_descriptors = ncols_descriptors_\n",
    "        \n",
    "    def is_valid(self):\n",
    "        return len(self._match_right) + len(self._match_left) > 0"
   ]
  },
  {
   "cell_type": "code",
   "execution_count": 18,
   "id": "c6c58de0",
   "metadata": {},
   "outputs": [],
   "source": [
    "features_by_image = defaultdict(dict)\n",
    "all_features = {}"
   ]
  },
  {
   "cell_type": "code",
   "execution_count": 19,
   "id": "fb864228",
   "metadata": {},
   "outputs": [],
   "source": [
    "id_feature = 0\n",
    "for image_id, keypoints in Keypoints._keypoints.items():\n",
    "    for index in range(keypoints._rows):\n",
    "        point3D_id = Images._images[image_id]._image_out.point3D_ids[index]\n",
    "        descriptor = Descriptors._descriptors[image_id]\n",
    "        match_right = {}\n",
    "        if image_id in image_right:\n",
    "            if index in image_right[image_id]:\n",
    "                match_right = image_right[image_id][index]\n",
    "        match_left = {}\n",
    "        if image_id in image_left:\n",
    "            if index in image_left[image_id]:\n",
    "                match_left = image_left[image_id][index]\n",
    "        feature = FEATURE(id_feature, image_id, point3D_id, index, \n",
    "                          keypoints._data[index, :], descriptor._data[index, :],\n",
    "                          match_right, match_left,\n",
    "                          keypoints._cols, descriptor._cols\n",
    "                         )\n",
    "        features_by_image[image_id][index] = feature\n",
    "        all_features[id_feature] = feature\n",
    "        id_feature += 1"
   ]
  },
  {
   "cell_type": "code",
   "execution_count": 20,
   "id": "124c0784",
   "metadata": {},
   "outputs": [],
   "source": [
    "keep = {}\n",
    "for image_id, features in features_by_image.items():\n",
    "    keep[image_id] = set()\n",
    "    for feature in features.values():\n",
    "        if feature.is_valid():\n",
    "            keep[image_id].add(feature._feature_id)"
   ]
  },
  {
   "cell_type": "code",
   "execution_count": 21,
   "id": "d8ea1900",
   "metadata": {},
   "outputs": [],
   "source": [
    "match_to_right = defaultdict(list)\n",
    "match_to_left = defaultdict(list)\n",
    "for id_pair, two_view in Two_view_geometrys._two_view_geometries.items():\n",
    "    image_id1, image_id2 = two_view._id_pair\n",
    "    for id_feature1, id_feature2 in two_view._data:\n",
    "        feature1 = features_by_image[image_id1][id_feature1]\n",
    "        feature2 = features_by_image[image_id2][id_feature2]\n",
    "        match_to_right[feature1._feature_id].append(feature2._feature_id)\n",
    "        match_to_left[feature2._feature_id].append(feature1._feature_id)"
   ]
  },
  {
   "cell_type": "code",
   "execution_count": 22,
   "id": "c39e3887",
   "metadata": {},
   "outputs": [],
   "source": [
    "for feature_id, feature in all_features.items():\n",
    "    feature._match_right = match_to_right[feature_id]\n",
    "    feature._match_left = match_to_left[feature_id]"
   ]
  },
  {
   "cell_type": "markdown",
   "id": "441e7595",
   "metadata": {},
   "source": [
    "## Process data"
   ]
  },
  {
   "cell_type": "code",
   "execution_count": 23,
   "id": "facec5c4",
   "metadata": {},
   "outputs": [],
   "source": [
    "def _align(xyz_val_, camera_, image_, safe_ = True):\n",
    "    uv_val = camera_._calib.dot(image_._rotation.dot(xyz_val_) + image_._translation)\n",
    "    if uv_val[2] > 0 or (uv_val[2] < 0 and not safe_):\n",
    "        uv_val = uv_val / uv_val[2]\n",
    "    else:\n",
    "        print(\"ERROR: point not in front of camera\")\n",
    "\n",
    "    return uv_val[:2]"
   ]
  },
  {
   "cell_type": "code",
   "execution_count": 24,
   "id": "9340ac5b",
   "metadata": {},
   "outputs": [],
   "source": [
    "def _add_noise(uv_val_, noise_std_, camera_):\n",
    "    noisy_uv_val = uv_val_ + np.random.uniform(-noise_std_, noise_std_, 2)\n",
    "    truncated = np.clip(noisy_uv_val, a_min = [0, 0], a_max = [camera_._width, camera_._height])\n",
    "    return truncated"
   ]
  },
  {
   "cell_type": "code",
   "execution_count": 25,
   "id": "6a8b979e",
   "metadata": {},
   "outputs": [],
   "source": [
    "noise_std = 2"
   ]
  },
  {
   "cell_type": "code",
   "execution_count": 26,
   "id": "651ee23e",
   "metadata": {},
   "outputs": [],
   "source": [
    "for image_id, features_to_keep in keep.items():\n",
    "    image = Images._images[image_id]\n",
    "    camera = Cameras._cameras[image._camera_id]\n",
    "    for feature_id in features_to_keep:\n",
    "        feature = all_features[feature_id]\n",
    "        xyz_val = points3D_out[feature._point3D_id].xyz\n",
    "        uv_val = _align(xyz_val, camera, image)\n",
    "        if noise_std > 0:\n",
    "            uv_val = _add_noise(uv_val, noise_std, camera)\n",
    "        feature._position[:2] = uv_val"
   ]
  },
  {
   "cell_type": "code",
   "execution_count": 27,
   "id": "a4d0a95f",
   "metadata": {},
   "outputs": [],
   "source": [
    "increase_ratio = 1.1\n",
    "outlier_ratio = 0.35\n",
    "max_try_outlier = 100\n",
    "max_inlier_error = 2"
   ]
  },
  {
   "cell_type": "code",
   "execution_count": 28,
   "id": "d91e27a8",
   "metadata": {},
   "outputs": [],
   "source": [
    "def generate_outlier(xyz_val_, camera_, image_, max_inlier_error_, iteration_, max_iter_outlier_):\n",
    "    width = camera._width\n",
    "    height = camera._height\n",
    "    \n",
    "    uv_val = _align(xyz_val_, camera, image, False)\n",
    "    u, v = uv_val\n",
    "    \n",
    "    if u > 0 and v > 0 and u < width and v < height:\n",
    "        min_offset = np.sqrt(max_inlier_error_)\n",
    "\n",
    "        theta1 = np.arctan((height - v) / (width - u))\n",
    "        theta2 = np.arctan(u / (height - v)) + np.pi / 2\n",
    "        theta3 = np.arctan(v / u) + np.pi\n",
    "        theta4 = np.arctan((width - u) / v) + np.pi * 3 / 2\n",
    "\n",
    "        assert(theta1 > 0 and theta1 < np.pi / 2)\n",
    "        assert(theta2 > np.pi / 2 and theta2 < np.pi)\n",
    "        assert(theta3 > np.pi and theta3 < np.pi * 3 / 2)\n",
    "        assert(theta4 > np.pi * 3 / 2 and theta4 < 2 * np.pi)\n",
    "        while iteration_ < max_iter_outlier_: \n",
    "\n",
    "            theta = np.random.uniform(0, 2 * np.pi)\n",
    "\n",
    "            if theta >= theta4 or theta < theta1:\n",
    "                max_offset = (width - u) / np.cos(theta)\n",
    "            elif theta >= theta1 and theta < theta2:\n",
    "                max_offset = (height - v) / np.cos(theta - np.pi / 2)\n",
    "            elif theta >= theta2 and theta < theta3:\n",
    "                max_offset = u / np.cos(theta - np.pi)\n",
    "            elif theta >= theta3 and theta < theta4:\n",
    "                max_offset = v / np.cos(theta - np.pi * 3 / 2)\n",
    "\n",
    "            if max_offset >= min_offset:\n",
    "                offset = np.random.uniform(min_offset, max_offset)\n",
    "\n",
    "                u += np.cos(theta) * offset\n",
    "                v += np.sin(theta) * offset\n",
    "\n",
    "                assert(u >= 0 and u <= width)\n",
    "                assert(v >= 0 and v <= height)\n",
    "                \n",
    "                iteration_ += 1\n",
    "                return np.array([u, v])\n",
    "            iteration_ += 1\n",
    "    iteration_ += 1\n",
    "    return None"
   ]
  },
  {
   "cell_type": "code",
   "execution_count": 29,
   "id": "7adb7c8a",
   "metadata": {},
   "outputs": [],
   "source": [
    "two_views_withfeatures = {}\n",
    "for id_pair, two_view in Two_view_geometrys._two_view_geometries.items():\n",
    "    image_id1, image_id2 = two_view._id_pair\n",
    "    two_views_matchs = []\n",
    "    for id_feature1, id_feature2 in two_view._data:\n",
    "        feature1 = features_by_image[image_id1][id_feature1]\n",
    "        feature2 = features_by_image[image_id2][id_feature2]\n",
    "        two_views_matchs.append([feature1._feature_id, feature2._feature_id])\n",
    "    two_views_withfeatures[id_pair] = two_views_matchs"
   ]
  },
  {
   "cell_type": "code",
   "execution_count": 30,
   "id": "40584c19",
   "metadata": {},
   "outputs": [
    {
     "name": "stdout",
     "output_type": "stream",
     "text": [
      "1 2768\n",
      "2 2612\n",
      "3 2949\n",
      "4 2345\n",
      "5 1914\n",
      "6 2497\n",
      "7 1946\n",
      "8 2640\n",
      "9 2620\n"
     ]
    }
   ],
   "source": [
    "for i, e in keep.items():\n",
    "    print(i, len(e))"
   ]
  },
  {
   "cell_type": "code",
   "execution_count": 31,
   "id": "651e8a4c",
   "metadata": {},
   "outputs": [],
   "source": [
    "id_feature_new = len(all_features)\n",
    "for id_pair, two_view in two_views_withfeatures.items():\n",
    "    image_ids = pair_id_to_image_ids(id_pair)\n",
    "    if 1 in image_ids and 9 in image_ids:\n",
    "        continue\n",
    "    elif 1 in image_ids:\n",
    "        side = 1\n",
    "    elif 9 in image_ids:\n",
    "        side = 0\n",
    "    else:\n",
    "        side = np.random.randint(0, 2)\n",
    "        \n",
    "    num_matches = len(two_view)\n",
    "    if outlier_ratio < 1:\n",
    "        num_outlier_req = np.floor(outlier_ratio * num_matches).astype(int)\n",
    "    else:\n",
    "        num_outlier_req = np.floor(outlier_ratio).astype(int)\n",
    "    \n",
    "    outliers_idx = np.random.choice(num_matches, num_outlier_req, replace=False)\n",
    "    \n",
    "    other_side = 1 - side\n",
    "    image_id = image_ids[side]\n",
    "    image = Images._images[image_id]\n",
    "    camera = Cameras._cameras[image._camera_id]\n",
    "\n",
    "    iteration = 0\n",
    "    for outlier_id in outliers_idx:\n",
    "        match_to_modify = two_view[outlier_id]\n",
    "        feature_to_modify = all_features[match_to_modify[side]]\n",
    "        feature_unchanged = all_features[match_to_modify[other_side]]\n",
    "        \n",
    "        xyz_val = points3D_out[feature_to_modify._point3D_id].xyz\n",
    "        outlier_pos = generate_outlier(xyz_val, camera, image, \n",
    "                                       max_inlier_error, iteration, max_try_outlier + num_outlier_req)\n",
    "        \n",
    "        if outlier_pos is not None:\n",
    "            position = feature_to_modify._position\n",
    "            position[:2] = outlier_pos\n",
    "            \n",
    "            if side:\n",
    "                idx_to_change_side = \\\n",
    "                    np.where(np.array(feature_to_modify._match_left) == feature_unchanged._feature_id)[0][0]\n",
    "                feature_to_modify._match_left.pop(idx_to_change_side)\n",
    "                \n",
    "                idx_to_change_otherside =  \\\n",
    "                    np.where(np.array(feature_unchanged._match_right) == feature_to_modify._feature_id)[0][0]\n",
    "                feature_unchanged._match_right[idx_to_change_otherside] = id_feature_new\n",
    "                \n",
    "                match_right = []\n",
    "                match_left = [feature_unchanged._feature_id]                \n",
    "            else:\n",
    "                idx_to_change_side =  \\\n",
    "                    np.where(np.array(feature_to_modify._match_right) == feature_unchanged._feature_id)[0][0]\n",
    "\n",
    "                feature_to_modify._match_right.pop(idx_to_change_side)\n",
    "                \n",
    "                idx_to_change_otherside =  \\\n",
    "                    np.where(np.array(feature_unchanged._match_left) == feature_to_modify._feature_id)[0][0]\n",
    "                feature_unchanged._match_left[idx_to_change_otherside] = id_feature_new\n",
    "                \n",
    "                match_right = [feature_unchanged._feature_id]\n",
    "                match_left = []\n",
    "            \n",
    "            new_feature = FEATURE(id_feature_new, image_id, feature_to_modify._point3D_id, -1, \n",
    "                          position, feature_to_modify._descriptor,\n",
    "                          match_right, match_left,\n",
    "                          feature_to_modify._ncols_keypoints, feature_to_modify._ncols_descriptors\n",
    "                         )\n",
    "            \n",
    "            all_features[id_feature_new] = new_feature\n",
    "            keep[image_id].add(id_feature_new)\n",
    "            id_feature_new += 1"
   ]
  },
  {
   "cell_type": "markdown",
   "id": "4f8d2500",
   "metadata": {},
   "source": [
    "## Write data"
   ]
  },
  {
   "cell_type": "code",
   "execution_count": 32,
   "id": "00261f9c",
   "metadata": {},
   "outputs": [],
   "source": [
    "descriptors_feated = defaultdict(list)\n",
    "keypoints_feated = defaultdict(list)\n",
    "matches_feated = defaultdict(list)\n",
    "two_view_geometry_feated = defaultdict(list)\n",
    "new_feature_by_image = defaultdict(dict)\n",
    "for image_id, features_to_keep in keep.items():\n",
    "    for index_feat, feature_id in enumerate(features_to_keep):\n",
    "        feature = all_features[feature_id]\n",
    "        feature._index = index_feat\n",
    "        new_feature_by_image[image_id][index_feat] = feature\n",
    "        descriptors_feated[image_id].append([feature._descriptor, feature._ncols_descriptors])\n",
    "        keypoints_feated[image_id].append([feature._position, feature._ncols_keypoints])"
   ]
  },
  {
   "cell_type": "code",
   "execution_count": 33,
   "id": "99930228",
   "metadata": {
    "scrolled": true
   },
   "outputs": [],
   "source": [
    "for image_id, features_to_keep in keep.items():\n",
    "    for index_feat, feature_id in enumerate(features_to_keep):\n",
    "        feature = all_features[feature_id]\n",
    "        for feature_id2 in feature._match_right:\n",
    "            feature2 = all_features[feature_id2]\n",
    "            image_id1 = feature._image_id\n",
    "            image_id2 = feature2._image_id\n",
    "            index1 = feature._index\n",
    "            index2 = feature2._index\n",
    "            if image_id1 > image_id2:\n",
    "                value = [index2, index1]\n",
    "            else:\n",
    "                value = [index1, index2]\n",
    "            pair_id = image_ids_to_pair_id(image_id1, image_id2)\n",
    "        if value not in two_view_geometry_feated[pair_id]:\n",
    "            two_view_geometry_feated[pair_id].append(value)\n",
    "        if value not in matches_feated[pair_id]:\n",
    "            matches_feated[pair_id].append(value)\n",
    "        for feature_id0 in feature._match_left:\n",
    "            feature0 = all_features[feature_id0]\n",
    "            image_id1 = feature._image_id\n",
    "            image_id0 = feature0._image_id\n",
    "            index1 = feature._index\n",
    "            index0 = feature0._index\n",
    "            value = [index0, index1]\n",
    "            if image_id0 > image_id1:\n",
    "                value = [index1, index0]\n",
    "            else:\n",
    "                value = [index0, index1]\n",
    "            pair_id = image_ids_to_pair_id(image_id0, image_id1)\n",
    "            if value not in two_view_geometry_feated[pair_id]:\n",
    "                two_view_geometry_feated[pair_id].append(value)\n",
    "            if value not in matches_feated[pair_id]:\n",
    "                matches_feated[pair_id].append(value)"
   ]
  },
  {
   "cell_type": "code",
   "execution_count": 34,
   "id": "05b95838",
   "metadata": {},
   "outputs": [],
   "source": [
    "descriptors_feated_curated = {}\n",
    "for image_id, descriptors in descriptors_feated.items():\n",
    "    num_row = len(descriptors)\n",
    "    num_col = descriptors[0][1]\n",
    "    descript_as_array = np.zeros((num_row, num_col))\n",
    "    for index, descriptor in enumerate(descriptors):\n",
    "        if descriptor[1] != num_col:\n",
    "            print(\"ERROR\")\n",
    "        else:\n",
    "            descript_as_array[index, :] = descriptor[0]\n",
    "    descriptors_feated_curated[image_id] = ng.DESCRIPTOR(image_id, \n",
    "                                                         num_row, num_col, \n",
    "                                                         array_to_blob(descript_as_array.astype(np.int8)))"
   ]
  },
  {
   "cell_type": "code",
   "execution_count": 35,
   "id": "28bf53a2",
   "metadata": {},
   "outputs": [],
   "source": [
    "keypoints_feated_curated = {}\n",
    "for image_id, keypoints in keypoints_feated.items():\n",
    "    num_row = len(keypoints)\n",
    "    num_col = keypoints[0][1]\n",
    "    keypoint_as_array = np.zeros((num_row, num_col))\n",
    "    for index, keypoint in enumerate(keypoints):\n",
    "        if keypoint[1] != num_col:\n",
    "            print(\"ERROR\")\n",
    "        else:\n",
    "            keypoint_as_array[index, :] = keypoint[0]\n",
    "    keypoints_feated_curated[image_id] = ng.KEYPOINT(image_id,\n",
    "                                                     num_row, num_col,\n",
    "                                                     array_to_blob(keypoint_as_array.astype(np.float32)))"
   ]
  },
  {
   "cell_type": "code",
   "execution_count": 36,
   "id": "5dd3360c",
   "metadata": {},
   "outputs": [],
   "source": [
    "matches_feated_curated = {}\n",
    "for pair_id, matches in matches_feated.items():\n",
    "    num_row = len(matches)\n",
    "    num_col = 2\n",
    "    match_as_array = np.array(matches)\n",
    "    matches_feated_curated[pair_id] = ng.MATCH(pair_id,\n",
    "                                               num_row, num_col,\n",
    "                                               array_to_blob(match_as_array.astype(np.int32)))"
   ]
  },
  {
   "cell_type": "code",
   "execution_count": 37,
   "id": "7790dab8",
   "metadata": {},
   "outputs": [],
   "source": [
    "twoview_feated_curated = {}\n",
    "for pair_id, two_view in two_view_geometry_feated.items():\n",
    "    num_row = len(two_view)\n",
    "    num_col = 2\n",
    "    match_as_array = np.array(two_view, dtype=np.int32)\n",
    "    two_view_init = Two_view_geometrys._two_view_geometries[pair_id]\n",
    "    twoview_feated_curated[pair_id] = ng.TWO_VIEW_GEOMETRY(pair_id,\n",
    "                                               num_row, num_col,\n",
    "                                               match_as_array,\n",
    "                                               two_view_init._config,\n",
    "                                               two_view_init._F, two_view_init._E, two_view_init._H,\n",
    "                                               two_view_init._qvec, two_view_init._tvec)"
   ]
  },
  {
   "cell_type": "code",
   "execution_count": 38,
   "id": "42d714d3",
   "metadata": {},
   "outputs": [
    {
     "data": {
      "text/plain": [
       "2768"
      ]
     },
     "execution_count": 38,
     "metadata": {},
     "output_type": "execute_result"
    }
   ],
   "source": [
    "len(keypoints_feated_curated[1]._data)"
   ]
  },
  {
   "cell_type": "code",
   "execution_count": 39,
   "id": "90176d30",
   "metadata": {
    "scrolled": true
   },
   "outputs": [
    {
     "name": "stdout",
     "output_type": "stream",
     "text": [
      "1 2768\n",
      "2 5255\n",
      "3 4251\n",
      "4 3950\n",
      "5 3465\n",
      "6 4050\n",
      "7 2678\n",
      "8 4959\n",
      "9 2620\n"
     ]
    }
   ],
   "source": [
    "for i, e in keep.items():\n",
    "    print(i, len(e))"
   ]
  },
  {
   "cell_type": "code",
   "execution_count": 40,
   "id": "dbea2f5a",
   "metadata": {},
   "outputs": [
    {
     "data": {
      "text/plain": [
       "10872"
      ]
     },
     "execution_count": 40,
     "metadata": {},
     "output_type": "execute_result"
    }
   ],
   "source": [
    "len(Keypoints._keypoints[1]._data)"
   ]
  },
  {
   "cell_type": "code",
   "execution_count": 41,
   "id": "2d1f57a3",
   "metadata": {},
   "outputs": [],
   "source": [
    "for camera_id in Cameras._cameras:\n",
    "    Cameras._cameras[camera_id].write(db)"
   ]
  },
  {
   "cell_type": "code",
   "execution_count": 42,
   "id": "a9a153a0",
   "metadata": {},
   "outputs": [],
   "source": [
    "for image_id in Images._images:\n",
    "    Images._images[image_id].write(db)"
   ]
  },
  {
   "cell_type": "code",
   "execution_count": 43,
   "id": "731b6ecd",
   "metadata": {},
   "outputs": [],
   "source": [
    "for image_id in descriptors_feated_curated:\n",
    "    descriptors_feated_curated[image_id].write(db)"
   ]
  },
  {
   "cell_type": "code",
   "execution_count": 44,
   "id": "c88354d2",
   "metadata": {},
   "outputs": [],
   "source": [
    "for image_id in keypoints_feated_curated:\n",
    "    keypoints_feated_curated[image_id].write(db)"
   ]
  },
  {
   "cell_type": "code",
   "execution_count": 45,
   "id": "4f6c4377",
   "metadata": {},
   "outputs": [],
   "source": [
    "for pair_id in twoview_feated_curated:\n",
    "    twoview_feated_curated[pair_id].write(db)"
   ]
  },
  {
   "cell_type": "code",
   "execution_count": 46,
   "id": "fa176764",
   "metadata": {},
   "outputs": [],
   "source": [
    "for pair_id in matches_feated_curated:\n",
    "    matches_feated_curated[pair_id].write(db)"
   ]
  },
  {
   "cell_type": "code",
   "execution_count": 47,
   "id": "634ed285",
   "metadata": {},
   "outputs": [],
   "source": [
    "# Commit the data to the file.\n",
    "db.commit()\n",
    "\n",
    "# Clean up.\n",
    "db.close()"
   ]
  },
  {
   "cell_type": "code",
   "execution_count": null,
   "id": "39e9c60b",
   "metadata": {},
   "outputs": [],
   "source": []
  }
 ],
 "metadata": {
  "kernelspec": {
   "display_name": "Python 3 (ipykernel)",
   "language": "python",
   "name": "python3"
  },
  "language_info": {
   "codemirror_mode": {
    "name": "ipython",
    "version": 3
   },
   "file_extension": ".py",
   "mimetype": "text/x-python",
   "name": "python",
   "nbconvert_exporter": "python",
   "pygments_lexer": "ipython3",
   "version": "3.8.10"
  }
 },
 "nbformat": 4,
 "nbformat_minor": 5
}
